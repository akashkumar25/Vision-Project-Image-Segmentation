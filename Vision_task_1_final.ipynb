{
  "nbformat": 4,
  "nbformat_minor": 0,
  "metadata": {
    "accelerator": "GPU",
    "colab": {
      "name": "Vision_task_1 final.ipynb",
      "provenance": [],
      "collapsed_sections": []
    },
    "kernelspec": {
      "display_name": "Python 3",
      "language": "python",
      "name": "python3"
    },
    "language_info": {
      "codemirror_mode": {
        "name": "ipython",
        "version": 3
      },
      "file_extension": ".py",
      "mimetype": "text/x-python",
      "name": "python",
      "nbconvert_exporter": "python",
      "pygments_lexer": "ipython3",
      "version": "3.8.3"
    }
  },
  "cells": [
    {
      "cell_type": "markdown",
      "metadata": {
        "id": "8Olyh1WxPWt1"
      },
      "source": [
        "# Image Segmentation Task 1\n",
        "#### Welcome to the first task of Image Segmentation. Image segmentation is the process of partitioning the image into a set of pixels representing an object. In this task, you will be introduced to the problem of image segmentation and programming pipeline involved in image segmentation."
      ]
    },
    {
      "cell_type": "markdown",
      "metadata": {
        "id": "B85zKY38PWt5"
      },
      "source": [
        "For the purpose of this task we will be using PASCAL VOC datset. The dataset contains a total of 2913 images with segmentation annotations. Code in the cell below will download the code and extract the dataset."
      ]
    },
    {
      "cell_type": "code",
      "metadata": {
        "id": "v1AAiNWg9PxS"
      },
      "source": [
        "from google.colab import drive\n",
        "drive.mount('/content/drive')"
      ],
      "execution_count": null,
      "outputs": []
    },
    {
      "cell_type": "code",
      "metadata": {
        "id": "yTWomuig9tz1"
      },
      "source": [
        "cd \"/content/drive/MyDrive/NN_Project\""
      ],
      "execution_count": null,
      "outputs": []
    },
    {
      "cell_type": "code",
      "metadata": {
        "id": "WY0jc_Dp92cj"
      },
      "source": [
        "pwd"
      ],
      "execution_count": null,
      "outputs": []
    },
    {
      "cell_type": "code",
      "metadata": {
        "id": "zM_t4c-S3k31"
      },
      "source": [
        "!wget http://host.robots.ox.ac.uk/pascal/VOC/voc2012/VOCtrainval_11-May-2012.tar\n",
        "!tar -xvf VOCtrainval_11-May-2012.tar"
      ],
      "execution_count": null,
      "outputs": []
    },
    {
      "cell_type": "code",
      "metadata": {
        "id": "6lvs9XIpBaI0"
      },
      "source": [
        "!sudo pip install --upgrade scipy==1.1.0"
      ],
      "execution_count": null,
      "outputs": []
    },
    {
      "cell_type": "markdown",
      "metadata": {
        "id": "2ikuKrsIPWt6"
      },
      "source": [
        "### 1.1 Loading the dataset"
      ]
    },
    {
      "cell_type": "code",
      "metadata": {
        "id": "qunDv45j24Mg"
      },
      "source": [
        "import os\n",
        "from os.path import join as pjoin\n",
        "import collections\n",
        "import json\n",
        "import torch\n",
        "import imageio\n",
        "import numpy as np\n",
        "import scipy.misc as m\n",
        "import scipy.io as io\n",
        "import matplotlib.pyplot as plt\n",
        "import glob\n",
        "\n",
        "from PIL import Image\n",
        "from tqdm import tqdm\n",
        "from torch.utils import data\n",
        "from torchvision import transforms\n",
        "\n",
        "\n",
        "class pascalVOCDataset(data.Dataset):\n",
        "    \"\"\"Data loader for the Pascal VOC semantic segmentation dataset.\n",
        "\n",
        "    Annotations from both the original VOC data (which consist of RGB images\n",
        "    in which colours map to specific classes) and the SBD (Berkely) dataset\n",
        "    (where annotations are stored as .mat files) are converted into a common\n",
        "    `label_mask` format.  Under this format, each mask is an (M,N) array of\n",
        "    integer values from 0 to 21, where 0 represents the background class.\n",
        "\n",
        "    The label masks are stored in a new folder, called `pre_encoded`, which\n",
        "    is added as a subdirectory of the `SegmentationClass` folder in the\n",
        "    original Pascal VOC data layout.\n",
        "\n",
        "    A total of five data splits are provided for working with the VOC data:\n",
        "        train: The original VOC 2012 training data - 1464 images\n",
        "        val: The original VOC 2012 validation data - 1449 images\n",
        "        trainval: The combination of `train` and `val` - 2913 images\n",
        "        train_aug: The unique images present in both the train split and\n",
        "                   training images from SBD: - 8829 images (the unique members\n",
        "                   of the result of combining lists of length 1464 and 8498)\n",
        "        train_aug_val: The original VOC 2012 validation data minus the images\n",
        "                   present in `train_aug` (This is done with the same logic as\n",
        "                   the validation set used in FCN PAMI paper, but with VOC 2012\n",
        "                   rather than VOC 2011) - 904 images\n",
        "    \"\"\"\n",
        "\n",
        "    def __init__(\n",
        "        self,\n",
        "        root,\n",
        "        sbd_path=None,\n",
        "        split=\"train_aug\",\n",
        "        is_transform=False,\n",
        "        img_size=512,\n",
        "        augmentations=None,\n",
        "        img_norm=True,\n",
        "        test_mode=False,\n",
        "    ):\n",
        "        self.root = root\n",
        "        self.sbd_path = sbd_path\n",
        "        self.split = split\n",
        "        self.is_transform = is_transform\n",
        "        self.augmentations = augmentations\n",
        "        self.img_norm = img_norm\n",
        "        self.test_mode = test_mode\n",
        "        self.n_classes = 21\n",
        "        self.mean = np.array([104.00699, 116.66877, 122.67892])\n",
        "        self.files = collections.defaultdict(list)\n",
        "        self.img_size = img_size if isinstance(img_size, tuple) else (img_size, img_size)\n",
        "\n",
        "        if not self.test_mode:\n",
        "            for split in [\"train\", \"val\", \"trainval\"]:\n",
        "                path = pjoin(self.root, \"ImageSets/Segmentation\", split + \".txt\")\n",
        "                file_list = tuple(open(path, \"r\"))\n",
        "                file_list = [id_.rstrip() for id_ in file_list]\n",
        "                self.files[split] = file_list\n",
        "            self.setup_annotations()\n",
        "\n",
        "        self.tf = transforms.Compose(\n",
        "            [\n",
        "                # add more trasnformations as you see fit\n",
        "                transforms.ToTensor(),\n",
        "                transforms.Normalize([0.485, 0.456, 0.406], [0.229, 0.224, 0.225]),\n",
        "            ]\n",
        "        )\n",
        "\n",
        "    def __len__(self):\n",
        "        return len(self.files[self.split])\n",
        "\n",
        "    def __getitem__(self, index):\n",
        "        im_name = self.files[self.split][index]\n",
        "        im_path = pjoin(self.root, \"JPEGImages\", im_name + \".jpg\")\n",
        "        lbl_path = pjoin(self.root, \"SegmentationClass/pre_encoded\", im_name + \".png\")\n",
        "        im = Image.open(im_path)\n",
        "        lbl = Image.open(lbl_path)\n",
        "        if self.augmentations is not None:\n",
        "            im, lbl = self.augmentations(im, lbl)\n",
        "        if self.is_transform:\n",
        "            im, lbl = self.transform(im, lbl)\n",
        "        return im, torch.clamp(lbl, max=20)\n",
        "\n",
        "    def transform(self, img, lbl):\n",
        "        if self.img_size == (\"same\", \"same\"):\n",
        "            pass\n",
        "        else:\n",
        "            img = img.resize((self.img_size[0], self.img_size[1]))  # uint8 with RGB mode\n",
        "            lbl = lbl.resize((self.img_size[0], self.img_size[1]))\n",
        "        img = self.tf(img)\n",
        "        lbl = torch.from_numpy(np.array(lbl)).long()\n",
        "        lbl[lbl == 255] = 0\n",
        "        return img, lbl\n",
        "\n",
        "    def get_pascal_labels(self):\n",
        "        \"\"\"Load the mapping that associates pascal classes with label colors\n",
        "\n",
        "        Returns:\n",
        "            np.ndarray with dimensions (21, 3)\n",
        "        \"\"\"\n",
        "        return np.asarray(\n",
        "            [\n",
        "                [0, 0, 0],\n",
        "                [128, 0, 0],\n",
        "                [0, 128, 0],\n",
        "                [128, 128, 0],\n",
        "                [0, 0, 128],\n",
        "                [128, 0, 128],\n",
        "                [0, 128, 128],\n",
        "                [128, 128, 128],\n",
        "                [64, 0, 0],\n",
        "                [192, 0, 0],\n",
        "                [64, 128, 0],\n",
        "                [192, 128, 0],\n",
        "                [64, 0, 128],\n",
        "                [192, 0, 128],\n",
        "                [64, 128, 128],\n",
        "                [192, 128, 128],\n",
        "                [0, 64, 0],\n",
        "                [128, 64, 0],\n",
        "                [0, 192, 0],\n",
        "                [128, 192, 0],\n",
        "                [0, 64, 128],\n",
        "            ]\n",
        "        )\n",
        "\n",
        "    def encode_segmap(self, mask):\n",
        "        \"\"\"Encode segmentation label images as pascal classes\n",
        "\n",
        "        Args:\n",
        "            mask (np.ndarray): raw segmentation label image of dimension\n",
        "              (M, N, 3), in which the Pascal classes are encoded as colours.\n",
        "\n",
        "        Returns:\n",
        "            (np.ndarray): class map with dimensions (M,N), where the value at\n",
        "            a given location is the integer denoting the class index.\n",
        "        \"\"\"\n",
        "        mask = mask.astype(int)\n",
        "        label_mask = np.zeros((mask.shape[0], mask.shape[1]), dtype=np.int16)\n",
        "        for ii, label in enumerate(self.get_pascal_labels()):\n",
        "            label_mask[np.where(np.all(mask == label, axis=-1))[:2]] = ii\n",
        "        label_mask = label_mask.astype(int)\n",
        "        # print(np.unique(label_mask))\n",
        "        return label_mask\n",
        "\n",
        "    def decode_segmap(self, label_mask, plot=False):\n",
        "        \"\"\"Decode segmentation class labels into a color image\n",
        "\n",
        "        Args:\n",
        "            label_mask (np.ndarray): an (M,N) array of integer values denoting\n",
        "              the class label at each spatial location.\n",
        "            plot (bool, optional): whether to show the resulting color image\n",
        "              in a figure.\n",
        "\n",
        "        Returns:\n",
        "            (np.ndarray, optional): the resulting decoded color image.\n",
        "        \"\"\"\n",
        "        label_colours = self.get_pascal_labels()\n",
        "        r = label_mask.copy()\n",
        "        g = label_mask.copy()\n",
        "        b = label_mask.copy()\n",
        "        for ll in range(0, self.n_classes):\n",
        "            r[label_mask == ll] = label_colours[ll, 0]\n",
        "            g[label_mask == ll] = label_colours[ll, 1]\n",
        "            b[label_mask == ll] = label_colours[ll, 2]\n",
        "        rgb = np.zeros((label_mask.shape[0], label_mask.shape[1], 3))\n",
        "        rgb[:, :, 0] = r / 255.0\n",
        "        rgb[:, :, 1] = g / 255.0\n",
        "        rgb[:, :, 2] = b / 255.0\n",
        "        if plot:\n",
        "            plt.imshow(rgb)\n",
        "            plt.show()\n",
        "        else:\n",
        "            return rgb\n",
        "\n",
        "    def setup_annotations(self):\n",
        "        \"\"\"Sets up Berkley annotations by adding image indices to the\n",
        "        `train_aug` split and pre-encode all segmentation labels into the\n",
        "        common label_mask format (if this has not already been done). This\n",
        "        function also defines the `train_aug` and `train_aug_val` data splits\n",
        "        according to the description in the class docstring\n",
        "        \"\"\"\n",
        "        sbd_path = self.sbd_path\n",
        "        target_path = pjoin(self.root, \"SegmentationClass/pre_encoded\")\n",
        "        if not os.path.exists(target_path):\n",
        "            os.makedirs(target_path)\n",
        "        train_aug = self.files[\"train\"]\n",
        "\n",
        "        # keep unique elements (stable)\n",
        "        train_aug = [train_aug[i] for i in sorted(np.unique(train_aug, return_index=True)[1])]\n",
        "        self.files[\"train_aug\"] = train_aug\n",
        "        set_diff = set(self.files[\"val\"]) - set(train_aug)  # remove overlap\n",
        "        self.files[\"train_aug_val\"] = list(set_diff)\n",
        "\n",
        "        pre_encoded = glob.glob(pjoin(target_path, \"*.png\"))\n",
        "        expected = np.unique(self.files[\"train_aug\"] + self.files[\"val\"]).size\n",
        "\n",
        "        if len(pre_encoded) != expected:\n",
        "            print(\"Pre-encoding segmentation masks...\")\n",
        "\n",
        "            for ii in tqdm(self.files[\"trainval\"]):\n",
        "                fname = ii + \".png\"\n",
        "                lbl_path = pjoin(self.root, \"SegmentationClass\", fname)\n",
        "                lbl = self.encode_segmap(m.imread(lbl_path))\n",
        "                lbl = m.toimage(lbl, high=lbl.max(), low=lbl.min())\n",
        "                m.imsave(pjoin(target_path, fname), lbl)\n",
        "\n",
        "        assert expected == 2913, \"unexpected dataset sizes\""
      ],
      "execution_count": 4,
      "outputs": []
    },
    {
      "cell_type": "markdown",
      "metadata": {
        "id": "EiQDuNF3PWt9"
      },
      "source": [
        "### 1.2 Define the model architecture(2.0 point)\n",
        "In this section you have the freedom to decide your own model. Keep in mind though, to perform image segmentation, you need to implement an architecture that does pixel level classification i.e. for each pixel in the image you need to predict the probability of it belonging to one of the 21 categories."
      ]
    },
    {
      "cell_type": "code",
      "metadata": {
        "id": "CatAsvH3GTXs"
      },
      "source": [
        "import torch.nn as nn\n",
        "import torchvision.models as models\n",
        "import torch.nn.functional as F\n",
        "\n",
        "#Taking the Vgg_16 pre-trained model and adding the last layer to get the same output size as input.\n",
        "\n",
        "class Vgg_16(nn.Module):\n",
        "  \n",
        "    def __init__(self, num_classes):\n",
        "        super(Vgg_16, self).__init__()\n",
        "        \n",
        "        #Storing the features of the vgg16 pretrained model\n",
        "        self.fea = models.vgg16(pretrained=True).features\n",
        "         \n",
        "        #Adding the last layer to make the output size same as input\n",
        "        self.layer = nn.Sequential(\n",
        "            nn.Conv2d(512, 4096, 3),\n",
        "            nn.ReLU(inplace=True),\n",
        "            nn.Dropout(),\n",
        "            nn.Conv2d(4096, 4096, 3),\n",
        "            nn.ReLU(inplace=True),\n",
        "            nn.Dropout(),)\n",
        "        \n",
        "        #output layer\n",
        "        self.score = nn.Conv2d(4096, num_classes, 1)\n",
        "    \n",
        "    def forward(self, x):\n",
        "        #define the forward pass\n",
        "        A1 = self.fea(x)\n",
        "        A2 = self.layer(A1)\n",
        "        A3 = self.score(A2)\n",
        "\n",
        "        return F.upsample_bilinear(A3, x.size()[2:])\n",
        "\n",
        "\n"
      ],
      "execution_count": 5,
      "outputs": []
    },
    {
      "cell_type": "code",
      "metadata": {
        "id": "QfQiOnEkGZat"
      },
      "source": [
        "# Creating an instance of the model defined above. \n",
        "# You can modify it incase you need to pass paratemers to the constructor.\n",
        "model = Vgg_16(21).cuda()"
      ],
      "execution_count": null,
      "outputs": []
    },
    {
      "cell_type": "markdown",
      "metadata": {
        "id": "H9nXszkvPWt_"
      },
      "source": [
        "### 1.3 Hyperparameters(0.5 points)\n",
        "Define all the hyperparameters(not restricted to the three given below) that you find useful here."
      ]
    },
    {
      "cell_type": "code",
      "metadata": {
        "id": "klLHPy88PWt_"
      },
      "source": [
        "local_path = 'VOC2012/' # modify it according to your device\n",
        "bs = 10\n",
        "epochs =30"
      ],
      "execution_count": 6,
      "outputs": []
    },
    {
      "cell_type": "markdown",
      "metadata": {
        "id": "Cvi52BvRPWuA"
      },
      "source": [
        "### 1.4 Dataset and Dataloader(0.5 points)\n",
        "Create the dataset using pascalVOCDataset class defined above. Use local_path defined in the cell above as root. "
      ]
    },
    {
      "cell_type": "code",
      "metadata": {
        "id": "6zsGcTW3PWuA"
      },
      "source": [
        "# dataset variable\n",
        "dst = pascalVOCDataset('VOC2012/', is_transform= True)\n",
        "\n",
        "# dataloader variable\n",
        "trainloader = torch.utils.data.DataLoader(dst, bs,shuffle=True)"
      ],
      "execution_count": null,
      "outputs": []
    },
    {
      "cell_type": "markdown",
      "metadata": {
        "id": "oxJavAR1PWuB"
      },
      "source": [
        "### 1.5 Loss fuction and Optimizer(1.0 point)\n",
        "Define below with the loss function you think would be most suitable for segmentation task. You are free to choose any optimizer to train the network."
      ]
    },
    {
      "cell_type": "code",
      "metadata": {
        "id": "a-rdpyzbB890"
      },
      "source": [
        "model= Vgg_16(21)\n",
        "model.load_state_dict(torch.load('epoch-14.pt'))\n",
        "model.eval()\n",
        "model.cuda()"
      ],
      "execution_count": null,
      "outputs": []
    },
    {
      "cell_type": "code",
      "metadata": {
        "id": "Euguh6LsPWuB"
      },
      "source": [
        "import torch.optim as optim\n",
        "# loss function\n",
        "loss_f = nn.CrossEntropyLoss()\n",
        "\n",
        "# optimizer variable\n",
        "opt = optim.Adam(model.parameters(), lr=0.000001, weight_decay=0.00005)"
      ],
      "execution_count": 12,
      "outputs": []
    },
    {
      "cell_type": "markdown",
      "metadata": {
        "id": "HRXBu2IWPWuB"
      },
      "source": [
        "### 1.6 Training the model(3.0 points)\n",
        "Your task here is to complete the code below to perform a training loop and save the model weights after each epoch of training."
      ]
    },
    {
      "cell_type": "code",
      "metadata": {
        "id": "Xz08hSdPKODm"
      },
      "source": [
        "model_dir= \"\"\n",
        "total_loss=0\n",
        "ctr=0\n",
        "epoch=5\n",
        "for e in range(epochs):\n",
        "  for i, d in enumerate(trainloader):\n",
        "    # your code goes here\n",
        "    img,lab= d\n",
        "    img= img.cuda()\n",
        "    lab= lab.cuda()\n",
        "    pred_out= model.forward(img)\n",
        "    loss= loss_f(pred_out,lab)\n",
        "    loss.backward()\n",
        "    opt.step()\n",
        "    total_loss+= loss.data\n",
        "    ctr= ctr+1\n",
        "\n",
        "  print(\"epoch: {}, loss: {}\".format(e, (total_loss/ctr)))\n",
        "  if e%10==0:\n",
        "    torch.save(model.state_dict(), os.path.join(model_dir, 'epochs-{}.pt'.format(e)))\n",
        "\n",
        "\n",
        "\n"
      ],
      "execution_count": null,
      "outputs": []
    },
    {
      "cell_type": "markdown",
      "metadata": {
        "id": "SQR5rUjaPWuB"
      },
      "source": [
        "### 1.7 Evaluate your model(1.5 points)\n",
        "In this section you have to implement the evaluation metrics for your model. Calculate the values of F1-score, dice coefficient and AUC-ROC score on the data you used for training. You can use external packages like scikit-learn to compute above metrics."
      ]
    },
    {
      "cell_type": "code",
      "metadata": {
        "id": "NLuTBRZIPWuB"
      },
      "source": [
        "from sklearn.metrics import f1_score\n",
        "from sklearn.metrics import roc_auc_score, roc_curve, auc\n",
        "from sklearn.metrics import jaccard_score\n",
        "\n",
        "\n",
        "def evaluate_f1(ground_truth, predictions):\n",
        "  f1= f1_score(ground_truth.cuda().detach().cpu().clone().numpy().reshape(-1), predictions.cuda().detach().cpu().clone().numpy().argmax(1).reshape(-1), average='micro')\n",
        "\n",
        "  return f1\n",
        "\n",
        "def evaluate_auc(ground_truth, predictions):\n",
        "  ground_truth = torch.flatten(ground_truth, start_dim = 0, end_dim = 2)\n",
        "  predictions = torch.flatten(predictions, start_dim = 0, end_dim = 2)\n",
        "  roc_auc= roc_auc_score(ground_truth.cuda().detach().cpu().clone().numpy(), nn.Softmax(predictions.cuda().detach().cpu().clone().numpy().argmax(1)))\n",
        "  return roc_auc\n",
        "\n",
        "def evaluate_jacc(ground_truth, predictions):\n",
        "  jacc = jaccard_score(ground_truth.cuda().detach().cpu().clone().numpy().reshape(-1), predictions.cuda().detach().cpu().clone().numpy().argmax(1).reshape(-1), average='micro')\n",
        "  return jacc"
      ],
      "execution_count": 14,
      "outputs": []
    },
    {
      "cell_type": "code",
      "metadata": {
        "id": "SE16gbH2BrHc"
      },
      "source": [
        "f= evaluate_f1(lab, pred_out)\n",
        "j= evaluate_jacc(lab, pred_out)\n",
        "print(\"F1_score:{}, Jaccard_score:{}\".format(f,j))"
      ],
      "execution_count": null,
      "outputs": []
    },
    {
      "cell_type": "markdown",
      "metadata": {
        "id": "bdHctxqnPWuC"
      },
      "source": [
        "### 1.8 Plot the evaluation metrics against epochs(1.0)\n",
        "In section 1.6 we saved the weights of the model after each epoch. In this section, you have to calculate the evaluation metrics after each epoch of training by loading the weights for each epoch. Once you have calculated the evaluation metrics for each epoch, plot them against the epochs."
      ]
    },
    {
      "cell_type": "code",
      "metadata": {
        "id": "qhurLJqpPWuC"
      },
      "source": [
        "total_f1=0\n",
        "total_ja=0\n",
        "total_loss=0\n",
        "ctr=0\n",
        "f1=[]\n",
        "jac=[]\n",
        "epoch=10\n",
        "for e in range(epoch):\n",
        "  for i, d in enumerate(trainloader):\n",
        "    # your code goes here\n",
        "    img,lab= d\n",
        "    img= img.cuda()\n",
        "    lab= lab.cuda()\n",
        "    pred= model(img)\n",
        "    loss= loss_f(pred,lab)\n",
        "    f= evaluate_f1(lab, pred)\n",
        "    total_f1+= f\n",
        "    j= evaluate_jacc(lab, pred)\n",
        "    total_ja+= j\n",
        "    total_loss+= loss.data\n",
        "    ctr=ctr+1\n",
        "  f1.append(total_f1/ctr)\n",
        "  jac.append(total_ja/ctr)\n",
        "  print(\"epoch: {}, loss: {}\".format(e, (total_loss/ctr)))\n",
        "\n",
        "\n",
        "\n",
        "\n",
        "\n"
      ],
      "execution_count": null,
      "outputs": []
    },
    {
      "cell_type": "code",
      "metadata": {
        "id": "AmYl6Hc4_b4-"
      },
      "source": [
        "titles = ['F1-score','Dice-coefficient']\n",
        "fig,ax= plt.subplots(nrows=1, ncols=2, figsize=(14,7))\n",
        "metric= [f1, jac]\n",
        "ep=[1,2,3,4,5,6,7,8,9,10]\n",
        "for i,j in enumerate(ax.flatten()):\n",
        "  plt.sca(j)\n",
        "  plt.title(titles[i])\n",
        "  plt.xlabel('Epoch')\n",
        "  plt.ylabel('Score')\n",
        "  plt.plot(ep,metric[i])"
      ],
      "execution_count": null,
      "outputs": []
    },
    {
      "cell_type": "markdown",
      "metadata": {
        "id": "f5rjXfn5PWuC"
      },
      "source": [
        "### 1.9 Visualize results(0.5 points)\n",
        "For any 10 images in the dataset, show the images along the with their segmentation mask."
      ]
    },
    {
      "cell_type": "code",
      "metadata": {
        "id": "3NS50IL_c7Mf"
      },
      "source": [
        "val= iter(trainloader)\n",
        "for _ in range(10):\n",
        "  fig= plt.figure(figsize=(10,10))\n",
        "  image,mask= next(val)\n",
        "  image= image.cuda()\n",
        "  mask= mask.cuda().detach().cpu().numpy()\n",
        "  preds= model(image)\n",
        "  preds= preds.detach().cpu().numpy()\n",
        "  image= image.cpu()\n",
        "  fig1= fig.add_subplot(131)\n",
        "  plt.imshow(image[1].transpose(0,2).transpose(0,1).numpy())\n",
        "  fig1.title.set_text(\"Image\")\n",
        "  fig1.axis(\"off\")\n",
        "  fig2= fig.add_subplot(132)\n",
        "  plt.imshow(mask[1])\n",
        "  fig2.title.set_text(\"Ground_Truth\")\n",
        "  fig2.axis(\"off\")\n",
        "  fig3= fig.add_subplot(133)\n",
        "  plt.imshow(preds.argmax(1)[1])\n",
        "  fig3.title.set_text(\"Prediction\")\n",
        "  fig3.axis(\"off\")\n",
        "  plt.show()\n"
      ],
      "execution_count": null,
      "outputs": []
    },
    {
      "cell_type": "code",
      "metadata": {
        "id": "r40ld-aANdAp"
      },
      "source": [
        ""
      ],
      "execution_count": 25,
      "outputs": []
    }
  ]
}